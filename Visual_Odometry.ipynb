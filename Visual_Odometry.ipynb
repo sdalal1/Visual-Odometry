{
  "cells": [
    {
      "cell_type": "markdown",
      "metadata": {
        "jukit_cell_id": "d3q92lB6Tn"
      },
      "source": [
        "<a href=\"https://colab.research.google.com/github/sdalal1/Visual-Odometry/blob/main/Visual_Odometry.ipynb\" target=\"_parent\"><img src=\"https://colab.research.google.com/assets/colab-badge.svg\" alt=\"Open In Colab\"/></a>"
      ]
    },
    {
      "cell_type": "code",
      "metadata": {
        "jukit_cell_id": "uDoNjnfFH7"
      },
      "source": [
        "import cv2\n",
        "import numpy as np\n",
        "import os\n",
        "import matplotlib.pyplot as plt\n",
        "import pandas as pd\n",
        "import datetime\n",
        "import progressbar"
      ],
      "outputs": [],
      "execution_count": null
    },
    {
      "cell_type": "code",
      "metadata": {
        "jukit_cell_id": "ng4JnJdyCR"
      },
      "source": [
        "file_path = '../dataset/sequences/00/image_0/'\n",
        "left_images = os.listdir(file_path) # list of strings with names of images\n",
        "print(len(left_images))"
      ],
      "outputs": [],
      "execution_count": null
    },
    {
      "cell_type": "code",
      "metadata": {
        "jukit_cell_id": "nGftYnMNDT"
      },
      "source": [
        "# the way he has his data setup is different from the default way mine\n",
        "# is setup, not sure why. I'm going to keep this cell for now and all\n",
        "# of the rest of the lidar stuff, but note that for now it will not work\n",
        "file_path = '../dataset/sequences/00/'\n",
        "velodyne_files = os.listdir(file_path + 'velodyne/')\n",
        "pointcloud = np.fromfile(filepath + 'velodyne/' + velodyne_files[0],\n",
        "                         dtype=np.float32)"
      ],
      "outputs": [],
      "execution_count": null
    },
    {
      "cell_type": "code",
      "metadata": {
        "jukit_cell_id": "apxlD3zMHp"
      },
      "source": [
        "pointcloud = pointcloud.reshape(-1, 4) # 4 columns for x, y, z, intensity"
      ],
      "outputs": [],
      "execution_count": null
    },
    {
      "cell_type": "code",
      "metadata": {
        "jukit_cell_id": "cSesUr1u7j"
      },
      "source": [
        "fig = plt.figure(figsize=(8, 8))\n",
        "ax = fig.add_subplot(111, projection='3d')\n",
        "\n",
        "xs = pointcloud[:, 0][::20]\n",
        "ys = pointcloud[:, 1][::20]\n",
        "zs = pointcloud[:, 2][::20]\n",
        "\n",
        "ax.set_box_aspect([np.ptp(xs), np.ptp(ys), np.ptp(zs)])\n",
        "ax.scatter(xs, ys, zs, s=0.01)\n",
        "ax.grid(False)\n",
        "ax.axis('off')\n",
        "ax.set_xlabel('X')\n",
        "ax.set_ylabel('Y')\n",
        "ax.set_zlabel('Z')\n",
        "\n",
        "ax.view_init(elev=40, azim=180)"
      ],
      "outputs": [],
      "execution_count": null
    },
    {
      "cell_type": "code",
      "metadata": {
        "jukit_cell_id": "8rcga3T6Z7"
      },
      "source": [
        "# I think this cell can be deleted\n",
        "calib = pd.read_csv('../dataset/sequences/00/calib.txt', delimiter=\" \", header=None, index_col=0)\n",
        "calib\n",
        "# Tr = np.array(calib.iloc[4]).reshape((3, 4))\n",
        "# print(Tr.round(4))"
      ],
      "outputs": [],
      "execution_count": null
    },
    {
      "cell_type": "code",
      "metadata": {
        "jukit_cell_id": "EtNx4guGkX"
      },
      "source": [
        "class Dataset_Handler():\n",
        "\n",
        "    def __init__(self, sequence, lidar=True, progress_bar=True, low_memory=True):\n",
        "\n",
        "        self.lidar = lidar\n",
        "        self.low_memory = low_memory\n",
        "\n",
        "        # I'm commenting out the poses stuff here, I think this has something\n",
        "        # with the winrar or whatever technique he uses to unzip his data.\n",
        "        # all of the lidar and ground truth poses and everything are all\n",
        "        # in one \"dataset\" folder, so that's why he writes his code this way.\n",
        "        # we're not going to have that unless we curate that file structure\n",
        "        # ourselves, and as of video 2 he doesn't use this \"poses\" variable\n",
        "        # at all so I'm commenting everyting out\n",
        "        self.seq_dir = f\"../dataset/sequences/{sequence}/\"\n",
        "        # self.poses_dir = f\"../dataset/poses/{sequence}.txt\"\n",
        "\n",
        "        self.left_image_files = os.listdir(self.seq_dir + 'image_0')\n",
        "        self.right_image_files = os.listdir(self.seq_dir + 'image_1')\n",
        "        self.num_frames = len(self.left_image_files)\n",
        "        if lidar:\n",
        "            self.velodyne_files = os.listdir(self.seq_dir + 'velodyne')\n",
        "            self.lidar_path = self.seq_dir + 'velodyne/'\n",
        "\n",
        "        # poses = pd.read_csv(self.poses_dir, delimiter=\" \", header=None)\n",
        "        self.gt = np.zeros((self.num_frames, 3, 4))\n",
        "\n",
        "        # for i in range(len(poses)):\n",
        "        #     self.gt[i] = np.array(poses.iloc[i]).reshape((3, 4))\n",
        "\n",
        "        calib = pd.read_csv(self.seq_dir + 'calib.txt', delimiter=\" \", header=None, index_col=0)\n",
        "        self.P0 = np.array(calib.loc['P0:']).reshape((3, 4))\n",
        "        self.P1 = np.array(calib.loc['P1:']).reshape((3, 4))\n",
        "        self.P2 = np.array(calib.loc['P2:']).reshape((3, 4))\n",
        "        self.P3 = np.array(calib.loc['P3:']).reshape((3, 4))\n",
        "        if lidar:\n",
        "            self.Tr = np.array(calib.loc['Tr: ']).reshape((3, 4))\n",
        "\n",
        "        if low_memory:\n",
        "            self.reset_frames\n",
        "            self.first_image_left = cv2.imread(self.seq_dir + 'image_0/' + \n",
        "                                               self.left_image_files[0], 0)\n",
        "            self.first_image_right = cv2.imread(self.seq_dir + 'image_0/' + \n",
        "                                               self.right_image_files[0], 0)\n",
        "            self.second_image_left = cv2.imread(self.seq_dir + 'image_0/' + \n",
        "                                               self.left_image_files[1], 0)\n",
        "            if lidar:\n",
        "                self.first_pointcloud = np.fromfile(self.lidar_path + self.velodyne_files[0],\n",
        "                                                    dtype=np.float32)\n",
        "            self.imheight = self.first_image_left.shape[0]\n",
        "            self.imwidth = self.first_image_left.shape[1]\n",
        "        else:\n",
        "            self.images_left = []\n",
        "            self.images_right = []\n",
        "            self.pointclouds = []\n",
        "            if progress_bar:\n",
        "                bar = progressbar.ProgressBar(maxval=self.num_frames)\n",
        "                bar.start()\n",
        "            for i, name_left in enumerate(self.left_image_files):\n",
        "                name_right = self.right_image_files[i]\n",
        "                self.images_left.append(cv2.imread(self.seq_dir + 'image_0/' + name_left))\n",
        "                self.images_right.append(cv2.imread(self.seq_dir + 'image_1/' + name_right))\n",
        "                if lidar:\n",
        "                    pointcloud = np.fromfile(self.lidar_path + self.velodyne_files[i],\n",
        "                                             dytype=np.float32, count=-1).reshape((-1, 4))\n",
        "                    self.pointclouds.append(pointcloud)\n",
        "                if progress_bar:\n",
        "                    bar.update(i+1)\n",
        "                self.imheight = self.images_left[0].shape[0]\n",
        "                self.imwidth = self.images_right[0].shape[1]\n",
        "\n",
        "    def reset_frames(self):\n",
        "        self.images_left = (cv2.imread(self.seq_dir + 'image_0/' + name_left, 0)\n",
        "                            for name_left in self.left_image_files)\n",
        "        self.images_right= (cv2.imread(self.seq_dir + 'image_1/' + name_right, 0)\n",
        "                            for name_right in self.left_image_files)\n",
        "        if lidar:\n",
        "            self.pointcloud = (np.fromfile(self.lidar_path + velodyne_file, dtype=np.float32).reshape((-1, 4))\n",
        "                               for velodyne_file in self.velodyne_files)\n",
        "        pass\n",
        "        "
      ],
      "outputs": [],
      "execution_count": null
    },
    {
      "cell_type": "code",
      "metadata": {
        "jukit_cell_id": "NfHA0ilM1n"
      },
      "source": [
        "handler = Dataset_Handler(\"00\", lidar=False, low_memory=False)"
      ],
      "outputs": [],
      "execution_count": null
    }
  ],
  "metadata": {
    "anaconda-cloud": {},
    "kernelspec": {
      "display_name": "python",
      "language": "python",
      "name": "python3"
    }
  },
  "nbformat": 4,
  "nbformat_minor": 4
}