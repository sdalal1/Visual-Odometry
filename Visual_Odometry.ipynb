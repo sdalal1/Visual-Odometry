{
  "cells": [
    {
      "cell_type": "markdown",
      "metadata": {
        "jukit_cell_id": "d3q92lB6Tn"
      },
      "source": [
        "<a href=\"https://colab.research.google.com/github/sdalal1/Visual-Odometry/blob/main/Visual_Odometry.ipynb\" target=\"_parent\"><img src=\"https://colab.research.google.com/assets/colab-badge.svg\" alt=\"Open In Colab\"/></a>"
      ]
    },
    {
      "cell_type": "code",
      "metadata": {
        "jukit_cell_id": "uDoNjnfFH7"
      },
      "source": [
        "import cv2\n",
        "import numpy as np\n",
        "import os\n",
        "import matplotlib.pyplot as plt\n",
        "import pandas as pd\n",
        "import datetime\n",
        "import progressbar"
      ],
      "outputs": [],
      "execution_count": null
    },
    {
      "cell_type": "code",
      "metadata": {
        "jukit_cell_id": "ng4JnJdyCR"
      },
      "source": [
        "file_path = '../dataset/sequences/00/image_0/'\n",
        "left_images = os.listdir(file_path) # list of strings with names of images\n",
        "print(len(left_images))"
      ],
      "outputs": [],
      "execution_count": null
    },
    {
      "cell_type": "code",
      "metadata": {
        "jukit_cell_id": "HSN51OBlio"
      },
      "source": [
        "plt.figure(figsize=(12,4))\n",
        "plt.imshow(cv2.imread(file_path + left_images[0], 0), cmap='gray')\n",
        "plt.show()"
      ],
      "outputs": [],
      "execution_count": null
    },
    {
      "cell_type": "code",
      "metadata": {
        "jukit_cell_id": "qxoYS5ocj6"
      },
      "source": [
        "file_path = '../dataset/sequences/00/'\n",
        "velodyne_files = os.listdir(file_path + 'velodyne/')\n",
        "pointcloud = np.fromfile(file_path + 'velodyne/' + velodyne_files[1], dtype=np.float32)"
      ],
      "outputs": [],
      "execution_count": null
    },
    {
      "cell_type": "code",
      "metadata": {
        "jukit_cell_id": "0duqSS2wUx"
      },
      "source": [
        "len(pointcloud)"
      ],
      "outputs": [],
      "execution_count": null
    },
    {
      "cell_type": "code",
      "metadata": {
        "jukit_cell_id": "KV8JDMpY26"
      },
      "source": [
        "pointcloud = pointcloud.reshape((-1, 4)) # 4 columns for x, y, z, intensity"
      ],
      "outputs": [],
      "execution_count": null
    },
    {
      "cell_type": "code",
      "metadata": {
        "jukit_cell_id": "VEVDhvOKzI"
      },
      "source": [
        "# %matplotlib widget"
      ],
      "outputs": [],
      "execution_count": null
    },
    {
      "cell_type": "code",
      "metadata": {
        "jukit_cell_id": "2LmqCTNoNL"
      },
      "source": [
        "fig = plt.figure(figsize=(8, 8))\n",
        "ax = fig.add_subplot(111, projection='3d')\n",
        "\n",
        "xs = pointcloud[:, 0][::10]\n",
        "ys = pointcloud[:, 1][::10]\n",
        "zs = pointcloud[:, 2][::10]\n",
        "\n",
        "ax.set_box_aspect([np.ptp(xs), np.ptp(ys), np.ptp(zs)])\n",
        "ax.grid(False)\n",
        "ax.axis('off')\n",
        "ax.set_xlabel('X')\n",
        "ax.set_ylabel('Y')\n",
        "ax.set_zlabel('Z')\n",
        "\n",
        "ax.view_init(elev=40, azim=180)\n",
        "\n",
        "ax.scatter(xs, ys, zs, s=0.1)\n",
        "plt.show()"
      ],
      "outputs": [],
      "execution_count": null
    },
    {
      "cell_type": "code",
      "metadata": {
        "jukit_cell_id": "8rcga3T6Z7"
      },
      "source": [
        "calib = pd.read_csv('../dataset/sequences/00/calib.txt', delimiter=\" \", header=None, index_col=0)\n",
        "print(calib)\n",
        "Tr = np.array(calib.iloc[4]).reshape((3, 4))\n",
        "print(Tr.round(4))"
      ],
      "outputs": [],
      "execution_count": null
    },
    {
      "cell_type": "code",
      "metadata": {
        "jukit_cell_id": "EtNx4guGkX"
      },
      "source": [
        "class Dataset_Handler():\n",
        "\n",
        "    def __init__(self, sequence, lidar=True, progress_bar=True, low_memory=True):\n",
        "\n",
        "        self.lidar = lidar\n",
        "        self.low_memory = low_memory\n",
        "\n",
        "        self.seq_dir = f\"../dataset/sequences/{sequence}/\"\n",
        "        self.poses_dir = f\"../dataset/poses/{sequence}.txt\"\n",
        "        poses = pd.read_csv(self.poses_dir, delimiter=\" \", header=None)\n",
        "\n",
        "        self.left_image_files = os.listdir(self.seq_dir + 'image_0')\n",
        "        self.right_image_files = os.listdir(self.seq_dir + 'image_1')\n",
        "        self.velodyne_files = os.listdir(self.seq_dir + 'velodyne')\n",
        "        self.num_frames = len(self.left_image_files)\n",
        "        self.lidar_path = self.seq_dir + 'velodyne/'\n",
        "\n",
        "        self.gt = np.zeros((self.num_frames, 3, 4))\n",
        "\n",
        "        for i in range(len(poses)):\n",
        "            self.gt[i] = np.array(poses.iloc[i]).reshape((3, 4))\n",
        "\n",
        "        calib = pd.read_csv(self.seq_dir + 'calib.txt', delimiter=\" \", header=None, index_col=0)\n",
        "        self.P0 = np.array(calib.loc['P0:']).reshape((3, 4))\n",
        "        self.P1 = np.array(calib.loc['P1:']).reshape((3, 4))\n",
        "        self.P2 = np.array(calib.loc['P2:']).reshape((3, 4))\n",
        "        self.P3 = np.array(calib.loc['P3:']).reshape((3, 4))\n",
        "        if self.lidar:\n",
        "            self.Tr = np.array(calib.loc['Tr:']).reshape((3, 4))\n",
        "\n",
        "        if low_memory:\n",
        "            self.reset_frames()\n",
        "            self.first_image_left = cv2.imread(self.seq_dir + 'image_0/' + \n",
        "                                               self.left_image_files[0], 0)\n",
        "            self.first_image_right = cv2.imread(self.seq_dir + 'image_0/' + \n",
        "                                               self.right_image_files[0], 0)\n",
        "            self.second_image_left = cv2.imread(self.seq_dir + 'image_0/' + \n",
        "                                               self.left_image_files[1], 0)\n",
        "            if lidar:\n",
        "                self.first_pointcloud = np.fromfile(self.lidar_path + self.velodyne_files[0],\n",
        "                                                    dtype=np.float32)\n",
        "            self.imheight = self.first_image_left.shape[0]\n",
        "            self.imwidth = self.first_image_left.shape[1]\n",
        "        else:\n",
        "            self.images_left = []\n",
        "            self.images_right = []\n",
        "            self.pointclouds = []\n",
        "            if progress_bar:\n",
        "                bar = progressbar.ProgressBar(maxval=self.num_frames)\n",
        "                bar.start()\n",
        "            for i, name_left in enumerate(self.left_image_files):\n",
        "                name_right = self.right_image_files[i]\n",
        "                self.images_left.append(cv2.imread(self.seq_dir + 'image_0/' + name_left))\n",
        "                self.images_right.append(cv2.imread(self.seq_dir + 'image_1/' + name_right))\n",
        "                if lidar:\n",
        "                    pointcloud = np.fromfile(self.lidar_path + self.velodyne_files[i],\n",
        "                                             dtype=np.float32, count=-1).reshape((-1, 4))\n",
        "                    self.pointclouds.append(pointcloud)\n",
        "                if progress_bar:\n",
        "                    bar.update(i+1)\n",
        "                self.imheight = self.images_left[0].shape[0]\n",
        "                self.imwidth = self.images_right[0].shape[1]\n",
        "\n",
        "    def reset_frames(self):\n",
        "        self.images_left = (cv2.imread(self.seq_dir + 'image_0/' + name_left, 0)\n",
        "                            for name_left in self.left_image_files)\n",
        "        self.images_right= (cv2.imread(self.seq_dir + 'image_1/' + name_right, 0)\n",
        "                            for name_right in self.left_image_files)\n",
        "        if self.lidar:\n",
        "            self.pointcloud = (np.fromfile(self.lidar_path + velodyne_file, dtype=np.float32).reshape((-1, 4))\n",
        "                               for velodyne_file in self.velodyne_files)\n",
        "        pass\n",
        "        "
      ],
      "outputs": [],
      "execution_count": null
    },
    {
      "cell_type": "code",
      "metadata": {
        "jukit_cell_id": "NfHA0ilM1n"
      },
      "source": [
        "handler = Dataset_Handler(\"00\", lidar=True, low_memory=True)"
      ],
      "outputs": [],
      "execution_count": null
    },
    {
      "cell_type": "code",
      "metadata": {
        "jukit_cell_id": "ZNysSNcwx0"
      },
      "source": [
        "plt.imshow(handler.first_image_left, cmap='gray')\n",
        "plt.show()\n",
        "plt.imshow(handler.first_image_right, cmap='gray')\n",
        "plt.show()"
      ],
      "outputs": [],
      "execution_count": null
    },
    {
      "cell_type": "code",
      "metadata": {
        "jukit_cell_id": "BWNLHYCYz4"
      },
      "source": [
        "def compute_left_disparity_map(img_left, img_right, matcher='bm', rgb=False, verbose=True):\n",
        "    # the rgb argument can be taken out, we will not be using it.\n",
        "    sad_window = 6 # sad stands for sum of absolute differences\n",
        "    num_disparities = sad_window * 16\n",
        "    block_size = 11\n",
        "    matcher_name = matcher\n",
        "\n",
        "    if matcher_name == 'bm':\n",
        "        matcher = cv2.StereoBM_create(numDisparities=num_disparities,\n",
        "                                     blockSize=block_size)\n",
        "\n",
        "    elif matcher_name == 'sgbm':\n",
        "        matcher = cv2.StereoSGBM_create(numDisparities=num_disparities,\n",
        "                                        minDisparity=0,\n",
        "                                        blockSize=block_size,\n",
        "                                        P1 = 8 * 3 * sad_window**2,\n",
        "                                        P2 = 32 * 3 * sad_window**2,\n",
        "                                        mode = cv2.STEREO_SGBM_MODE_SGBM_3WAY)\n",
        "\n",
        "    if rgb:\n",
        "        print(\"\")\n",
        "        img_left = cv2.cvtColor(img_left, cv2.COLOR_BGR2GRAY)\n",
        "        img_right = cv2.cvtColor(img_right, cv2.COLOR_BGR2GRAY)\n",
        "\n",
        "\n",
        "    start = datetime.datetime.now()\n",
        "    disp_left = matcher.compute(img_left, img_right).astype(np.float32)/16\n",
        "    end = datetime.datetime.now()\n",
        "\n",
        "    if verbose:\n",
        "        print(f\"Time to compute disparity map using stereo{matcher_name.upper()}\", end-start)\n",
        "\n",
        "    return disp_left"
      ],
      "outputs": [],
      "execution_count": null
    },
    {
      "cell_type": "code",
      "metadata": {
        "jukit_cell_id": "2SEkDTJARh"
      },
      "source": [
        "disp = compute_left_disparity_map(handler.first_image_left,\n",
        "                                  handler.first_image_right,\n",
        "                                  matcher='sgbm',\n",
        "                                  verbose=True)\n",
        "plt.figure(figsize=(12, 4))\n",
        "plt.imshow(disp);\n",
        "plt.show()"
      ],
      "outputs": [],
      "execution_count": null
    },
    {
      "cell_type": "code",
      "metadata": {
        "jukit_cell_id": "kcPG5BkOru"
      },
      "source": [],
      "outputs": [],
      "execution_count": null
    }
  ],
  "metadata": {
    "anaconda-cloud": {},
    "kernelspec": {
      "display_name": "python",
      "language": "python",
      "name": "python3"
    }
  },
  "nbformat": 4,
  "nbformat_minor": 4
}